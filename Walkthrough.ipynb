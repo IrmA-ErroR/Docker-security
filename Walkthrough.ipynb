{
 "cells": [
  {
   "cell_type": "markdown",
   "metadata": {},
   "source": [
    "# Практика: Безопасность контейнеров"
   ]
  },
  {
   "cell_type": "markdown",
   "metadata": {},
   "source": [
    "Убедимся, что Docker установлен и работает корректно."
   ]
  },
  {
   "cell_type": "code",
   "execution_count": 33,
   "metadata": {},
   "outputs": [
    {
     "name": "stdout",
     "output_type": "stream",
     "text": [
      "\n",
      "Hello from Docker!\n",
      "This message shows that your installation appears to be working correctly.\n",
      "\n",
      "To generate this message, Docker took the following steps:\n",
      " 1. The Docker client contacted the Docker daemon.\n",
      " 2. The Docker daemon pulled the \"hello-world\" image from the Docker Hub.\n",
      "    (amd64)\n",
      " 3. The Docker daemon created a new container from that image which runs the\n",
      "    executable that produces the output you are currently reading.\n",
      " 4. The Docker daemon streamed that output to the Docker client, which sent it\n",
      "    to your terminal.\n",
      "\n",
      "To try something more ambitious, you can run an Ubuntu container with:\n",
      " $ docker run -it ubuntu bash\n",
      "\n",
      "Share images, automate workflows, and more with a free Docker ID:\n",
      " https://hub.docker.com/\n",
      "\n",
      "For more examples and ideas, visit:\n",
      " https://docs.docker.com/get-started/\n",
      "\n"
     ]
    }
   ],
   "source": [
    "! docker run hello-world"
   ]
  },
  {
   "cell_type": "markdown",
   "metadata": {},
   "source": [
    "## Веб сайт со статичной HTML-страницей в контейнере"
   ]
  },
  {
   "cell_type": "code",
   "execution_count": 5,
   "metadata": {},
   "outputs": [],
   "source": [
    "import docker\n",
    "import os\n",
    "import subprocess\n",
    "\n",
    "client = docker.from_env()\n",
    "my__path = os.path.join(os.getcwd(), 'HTML_page')"
   ]
  },
  {
   "cell_type": "markdown",
   "metadata": {},
   "source": [
    "1. Создадим Docker-образ"
   ]
  },
  {
   "cell_type": "code",
   "execution_count": 7,
   "metadata": {},
   "outputs": [
    {
     "name": "stderr",
     "output_type": "stream",
     "text": [
      "#0 building with \"default\" instance using docker driver\n",
      "\n",
      "#1 [internal] load build definition from Dockerfile\n",
      "#1 transferring dockerfile: 248B 0.0s done\n",
      "#1 DONE 0.0s\n",
      "\n",
      "#2 [internal] load metadata for docker.io/library/nginx:alpine\n",
      "#2 DONE 3.1s\n",
      "\n",
      "#3 [internal] load .dockerignore\n",
      "#3 transferring context: 2B done\n",
      "#3 DONE 0.0s\n",
      "\n",
      "#4 [internal] load build context\n",
      "#4 transferring context: 357B done\n",
      "#4 DONE 0.0s\n",
      "\n",
      "#5 [1/2] FROM docker.io/library/nginx:alpine@sha256:4ff102c5d78d254a6f0da062b3cf39eaf07f01eec0927fd21e219d0af8bc0591\n",
      "#5 resolve docker.io/library/nginx:alpine@sha256:4ff102c5d78d254a6f0da062b3cf39eaf07f01eec0927fd21e219d0af8bc0591 0.0s done\n",
      "#5 sha256:ccc35e35d420d6dd115290f1074afc6ad1c474b6f94897434e6befd33be781d2 0B / 1.79MB 0.1s\n",
      "#5 sha256:43f2ec460bdf5babee56d7e13b060b308f42cbf2103f6665c349f0b98dac8962 0B / 627B 0.1s\n",
      "#5 sha256:4ff102c5d78d254a6f0da062b3cf39eaf07f01eec0927fd21e219d0af8bc0591 10.36kB / 10.36kB done\n",
      "#5 sha256:a71e0884a7f1192ecf5decf062b67d46b54ad63f0cc1b8aa7e705f739a97c2fc 2.50kB / 2.50kB done\n",
      "#5 sha256:1ff4bb4faebcfb1f7e01144fa9904a570ab9bab88694457855feb6c6bba3fa07 11.23kB / 11.23kB done\n",
      "#5 sha256:f18232174bc91741fdf3da96d85011092101a032a93a388b79e99e69c2d5c870 0B / 3.64MB 0.1s\n",
      "#5 sha256:f18232174bc91741fdf3da96d85011092101a032a93a388b79e99e69c2d5c870 2.10MB / 3.64MB 0.7s\n",
      "#5 extracting sha256:f18232174bc91741fdf3da96d85011092101a032a93a388b79e99e69c2d5c870\n",
      "#5 sha256:ccc35e35d420d6dd115290f1074afc6ad1c474b6f94897434e6befd33be781d2 1.05MB / 1.79MB 0.9s\n",
      "#5 sha256:f18232174bc91741fdf3da96d85011092101a032a93a388b79e99e69c2d5c870 3.64MB / 3.64MB 0.8s done\n",
      "#5 sha256:984583bcf083fa6900b5e7834795a9a57a9b4dfe7448d5350474f5d309625ece 0B / 955B 0.9s\n",
      "#5 sha256:ccc35e35d420d6dd115290f1074afc6ad1c474b6f94897434e6befd33be781d2 1.79MB / 1.79MB 0.9s done\n",
      "#5 sha256:43f2ec460bdf5babee56d7e13b060b308f42cbf2103f6665c349f0b98dac8962 627B / 627B 0.9s done\n",
      "#5 extracting sha256:f18232174bc91741fdf3da96d85011092101a032a93a388b79e99e69c2d5c870 0.2s done\n",
      "#5 sha256:ab3286a7346303a31b69a5189f63f1414cc1de44e397088dcd07edb322df1fe9 0B / 1.21kB 1.0s\n",
      "#5 sha256:8d27c072a58f81ecf2425172ac0e5b25010ff2d014f89de35b90104e462568eb 0B / 402B 1.0s\n",
      "#5 extracting sha256:ccc35e35d420d6dd115290f1074afc6ad1c474b6f94897434e6befd33be781d2\n",
      "#5 sha256:984583bcf083fa6900b5e7834795a9a57a9b4dfe7448d5350474f5d309625ece 955B / 955B 1.1s done\n",
      "#5 extracting sha256:ccc35e35d420d6dd115290f1074afc6ad1c474b6f94897434e6befd33be781d2 0.1s done\n",
      "#5 sha256:6d79cc6084d434876ce0f038c675d20532f28e476283a29e7e63bc0bf13a4ed6 0B / 1.40kB 1.2s\n",
      "#5 sha256:8d27c072a58f81ecf2425172ac0e5b25010ff2d014f89de35b90104e462568eb 402B / 402B 1.3s done\n",
      "#5 sha256:0c7e4c092ab716c95e1a8840943549b4ac5e6c5d1a1cc74496528e1b03e1e67a 0B / 15.38MB 1.3s\n",
      "#5 sha256:ab3286a7346303a31b69a5189f63f1414cc1de44e397088dcd07edb322df1fe9 1.21kB / 1.21kB 1.3s done\n",
      "#5 extracting sha256:43f2ec460bdf5babee56d7e13b060b308f42cbf2103f6665c349f0b98dac8962 done\n",
      "#5 extracting sha256:984583bcf083fa6900b5e7834795a9a57a9b4dfe7448d5350474f5d309625ece done\n",
      "#5 extracting sha256:8d27c072a58f81ecf2425172ac0e5b25010ff2d014f89de35b90104e462568eb done\n",
      "#5 extracting sha256:ab3286a7346303a31b69a5189f63f1414cc1de44e397088dcd07edb322df1fe9 done\n",
      "#5 extracting sha256:6d79cc6084d434876ce0f038c675d20532f28e476283a29e7e63bc0bf13a4ed6\n",
      "#5 sha256:6d79cc6084d434876ce0f038c675d20532f28e476283a29e7e63bc0bf13a4ed6 1.40kB / 1.40kB 1.4s done\n",
      "#5 extracting sha256:6d79cc6084d434876ce0f038c675d20532f28e476283a29e7e63bc0bf13a4ed6 done\n",
      "#5 sha256:0c7e4c092ab716c95e1a8840943549b4ac5e6c5d1a1cc74496528e1b03e1e67a 1.05MB / 15.38MB 1.9s\n",
      "#5 sha256:0c7e4c092ab716c95e1a8840943549b4ac5e6c5d1a1cc74496528e1b03e1e67a 6.29MB / 15.38MB 2.1s\n",
      "#5 sha256:0c7e4c092ab716c95e1a8840943549b4ac5e6c5d1a1cc74496528e1b03e1e67a 8.39MB / 15.38MB 2.2s\n",
      "#5 sha256:0c7e4c092ab716c95e1a8840943549b4ac5e6c5d1a1cc74496528e1b03e1e67a 13.63MB / 15.38MB 2.4s\n",
      "#5 sha256:0c7e4c092ab716c95e1a8840943549b4ac5e6c5d1a1cc74496528e1b03e1e67a 14.68MB / 15.38MB 2.5s\n",
      "#5 extracting sha256:0c7e4c092ab716c95e1a8840943549b4ac5e6c5d1a1cc74496528e1b03e1e67a\n",
      "#5 sha256:0c7e4c092ab716c95e1a8840943549b4ac5e6c5d1a1cc74496528e1b03e1e67a 15.38MB / 15.38MB 2.5s done\n",
      "#5 extracting sha256:0c7e4c092ab716c95e1a8840943549b4ac5e6c5d1a1cc74496528e1b03e1e67a 0.5s done\n",
      "#5 DONE 3.2s\n",
      "\n",
      "#6 [2/2] COPY index.html /usr/share/nginx/html/index.html\n",
      "#6 DONE 0.2s\n",
      "\n",
      "#7 exporting to image\n",
      "#7 exporting layers 0.0s done\n",
      "#7 writing image sha256:66ed5edfa83c5861f1a3ff5fdcbc0a47a996596072c11df0e444a15c93b40e65 done\n",
      "#7 naming to docker.io/library/my-static-website:v1 done\n",
      "#7 DONE 0.0s\n"
     ]
    },
    {
     "data": {
      "text/plain": [
       "CompletedProcess(args='docker build -t my-static-website:v1 /home/dana/Documents/Docker-security/HTML_page', returncode=0)"
      ]
     },
     "execution_count": 7,
     "metadata": {},
     "output_type": "execute_result"
    }
   ],
   "source": [
    "build_command = f\"docker build -t my-static-website:v1 {my__path}\"\n",
    "subprocess.run(build_command, shell=True, check=True)"
   ]
  },
  {
   "cell_type": "code",
   "execution_count": 17,
   "metadata": {},
   "outputs": [
    {
     "name": "stdout",
     "output_type": "stream",
     "text": [
      "REPOSITORY          TAG       IMAGE ID       CREATED         SIZE\n",
      "my-static-website   v1        66ed5edfa83c   7 minutes ago   47.9MB\n",
      "hello-world         latest    74cc54e27dc4   8 weeks ago     10.1kB\n"
     ]
    },
    {
     "data": {
      "text/plain": [
       "CompletedProcess(args='docker images', returncode=0)"
      ]
     },
     "execution_count": 17,
     "metadata": {},
     "output_type": "execute_result"
    }
   ],
   "source": [
    "check_command = f\"docker images\"\n",
    "subprocess.run(check_command, shell=True, check=True)"
   ]
  },
  {
   "cell_type": "markdown",
   "metadata": {},
   "source": [
    "2. Запуск контейнера"
   ]
  },
  {
   "cell_type": "code",
   "execution_count": 18,
   "metadata": {},
   "outputs": [],
   "source": [
    "container = client.containers.run(\"my-static-website:v1\", detach=True, ports={'80/tcp': 80})"
   ]
  },
  {
   "cell_type": "markdown",
   "metadata": {},
   "source": [
    "3. Проверка, работает ли веб-сайт"
   ]
  },
  {
   "cell_type": "code",
   "execution_count": 19,
   "metadata": {},
   "outputs": [
    {
     "name": "stdout",
     "output_type": "stream",
     "text": [
      "Response from the website:\n",
      " <!DOCTYPE html>\n",
      "<html lang=\"en\">\n",
      "<head>\n",
      "    <meta charset=\"UTF-8\">\n",
      "    <meta name=\"viewport\" content=\"width=device-width, initial-scale=1.0\">\n",
      "    <title>My Static Website</title>\n",
      "</head>\n",
      "<body>\n",
      "    <h1>Welcome to My Static Website!</h1>\n",
      "    <p>This is a simple HTML page served by NGINX in Docker.</p>\n",
      "</body>\n",
      "</html>\n",
      "\n"
     ]
    }
   ],
   "source": [
    "response = subprocess.run(\"curl http://localhost\", shell=True, capture_output=True, text=True)\n",
    "print(\"Response from the website:\\n\", response.stdout)"
   ]
  },
  {
   "cell_type": "code",
   "execution_count": 23,
   "metadata": {},
   "outputs": [
    {
     "name": "stdout",
     "output_type": "stream",
     "text": [
      "CONTAINER ID   IMAGE                  COMMAND                  CREATED          STATUS          PORTS                                 NAMES\n",
      "a1467128732a   my-static-website:v1   \"/docker-entrypoint.…\"   54 seconds ago   Up 53 seconds   0.0.0.0:80->80/tcp, [::]:80->80/tcp   compassionate_mcnulty\n"
     ]
    },
    {
     "data": {
      "text/plain": [
       "CompletedProcess(args='docker ps', returncode=0)"
      ]
     },
     "execution_count": 23,
     "metadata": {},
     "output_type": "execute_result"
    }
   ],
   "source": [
    "check_command = f\"docker ps\"\n",
    "subprocess.run(check_command, shell=True, check=True)"
   ]
  },
  {
   "cell_type": "markdown",
   "metadata": {},
   "source": [
    "4. Остановка контейнера"
   ]
  },
  {
   "cell_type": "code",
   "execution_count": 37,
   "metadata": {},
   "outputs": [],
   "source": [
    "container.stop()"
   ]
  },
  {
   "cell_type": "markdown",
   "metadata": {},
   "source": [
    "## Сборка приложения node.js в контейнере"
   ]
  },
  {
   "cell_type": "code",
   "execution_count": 24,
   "metadata": {},
   "outputs": [],
   "source": [
    "my_path = os.path.join(os.getcwd(), \"Node_js_app\")"
   ]
  },
  {
   "cell_type": "markdown",
   "metadata": {},
   "source": [
    "1. Собираем образ"
   ]
  },
  {
   "cell_type": "code",
   "execution_count": 25,
   "metadata": {},
   "outputs": [
    {
     "name": "stderr",
     "output_type": "stream",
     "text": [
      "#0 building with \"default\" instance using docker driver\n",
      "\n",
      "#1 [internal] load build definition from Dockerfile\n",
      "#1 transferring dockerfile: 339B done\n",
      "#1 DONE 0.0s\n",
      "\n",
      "#2 [internal] load metadata for docker.io/library/node:10-alpine\n",
      "#2 DONE 2.7s\n",
      "\n",
      "#3 [internal] load .dockerignore\n",
      "#3 transferring context: 2B done\n",
      "#3 DONE 0.0s\n",
      "\n",
      "#4 [internal] load build context\n",
      "#4 transferring context: 974B done\n",
      "#4 DONE 0.0s\n",
      "\n",
      "#5 [1/6] FROM docker.io/library/node:10-alpine@sha256:dc98dac24efd4254f75976c40bce46944697a110d06ce7fa47e7268470cf2e28\n",
      "#5 resolve docker.io/library/node:10-alpine@sha256:dc98dac24efd4254f75976c40bce46944697a110d06ce7fa47e7268470cf2e28 0.0s done\n",
      "#5 sha256:aa67ba258e1877ed6ec455a7f4cc69e25cf0f0b027a7f6f3c63a8eca2c8a440c 6.73kB / 6.73kB done\n",
      "#5 sha256:ddad3d7c1e96adf9153f8921a7c9790f880a390163df453be1566e9ef0d546e0 0B / 2.82MB 0.1s\n",
      "#5 sha256:de915e575d22c7e33c83fddaf7aee0672e5d6a67e598a26fe0b30c7022f53cdd 0B / 22.21MB 0.1s\n",
      "#5 sha256:7150aa69525b95f82b3df6a61a002f82382b2f3ea8ce51b9000b965f7476a5cc 0B / 2.35MB 0.1s\n",
      "#5 sha256:dc98dac24efd4254f75976c40bce46944697a110d06ce7fa47e7268470cf2e28 1.65kB / 1.65kB done\n",
      "#5 sha256:02767d92553e465bf51e0bd661074f2e70bd575c4a69a0d610aa6e78fd20a9bf 1.16kB / 1.16kB done\n",
      "#5 sha256:ddad3d7c1e96adf9153f8921a7c9790f880a390163df453be1566e9ef0d546e0 1.05MB / 2.82MB 0.5s\n",
      "#5 extracting sha256:ddad3d7c1e96adf9153f8921a7c9790f880a390163df453be1566e9ef0d546e0\n",
      "#5 sha256:ddad3d7c1e96adf9153f8921a7c9790f880a390163df453be1566e9ef0d546e0 2.82MB / 2.82MB 0.6s done\n",
      "#5 extracting sha256:ddad3d7c1e96adf9153f8921a7c9790f880a390163df453be1566e9ef0d546e0 0.1s done\n",
      "#5 sha256:d7aa47be044e5a988e3e7f204e2e28cb9f070daa32ed081072ad6d5bf6c085d1 0B / 280B 0.7s\n",
      "#5 sha256:de915e575d22c7e33c83fddaf7aee0672e5d6a67e598a26fe0b30c7022f53cdd 3.15MB / 22.21MB 0.8s\n",
      "#5 sha256:de915e575d22c7e33c83fddaf7aee0672e5d6a67e598a26fe0b30c7022f53cdd 6.29MB / 22.21MB 1.1s\n",
      "#5 sha256:7150aa69525b95f82b3df6a61a002f82382b2f3ea8ce51b9000b965f7476a5cc 1.05MB / 2.35MB 1.2s\n",
      "#5 sha256:de915e575d22c7e33c83fddaf7aee0672e5d6a67e598a26fe0b30c7022f53cdd 11.53MB / 22.21MB 1.4s\n",
      "#5 sha256:d7aa47be044e5a988e3e7f204e2e28cb9f070daa32ed081072ad6d5bf6c085d1 280B / 280B 1.2s done\n",
      "#5 sha256:de915e575d22c7e33c83fddaf7aee0672e5d6a67e598a26fe0b30c7022f53cdd 16.78MB / 22.21MB 1.6s\n",
      "#5 sha256:7150aa69525b95f82b3df6a61a002f82382b2f3ea8ce51b9000b965f7476a5cc 2.35MB / 2.35MB 1.6s done\n",
      "#5 sha256:de915e575d22c7e33c83fddaf7aee0672e5d6a67e598a26fe0b30c7022f53cdd 19.92MB / 22.21MB 1.7s\n",
      "#5 sha256:de915e575d22c7e33c83fddaf7aee0672e5d6a67e598a26fe0b30c7022f53cdd 22.21MB / 22.21MB 1.8s\n",
      "#5 extracting sha256:de915e575d22c7e33c83fddaf7aee0672e5d6a67e598a26fe0b30c7022f53cdd\n",
      "#5 sha256:de915e575d22c7e33c83fddaf7aee0672e5d6a67e598a26fe0b30c7022f53cdd 22.21MB / 22.21MB 1.8s done\n",
      "#5 extracting sha256:de915e575d22c7e33c83fddaf7aee0672e5d6a67e598a26fe0b30c7022f53cdd 1.8s done\n",
      "#5 extracting sha256:7150aa69525b95f82b3df6a61a002f82382b2f3ea8ce51b9000b965f7476a5cc\n",
      "#5 extracting sha256:7150aa69525b95f82b3df6a61a002f82382b2f3ea8ce51b9000b965f7476a5cc 0.1s done\n",
      "#5 extracting sha256:d7aa47be044e5a988e3e7f204e2e28cb9f070daa32ed081072ad6d5bf6c085d1 done\n",
      "#5 DONE 4.0s\n",
      "\n",
      "#6 [2/6] RUN mkdir -p /src/app\n",
      "#6 DONE 0.6s\n",
      "\n",
      "#7 [3/6] WORKDIR /src/app\n",
      "#7 DONE 0.0s\n",
      "\n",
      "#8 [4/6] COPY package.json /src/app/package.json\n",
      "#8 DONE 0.0s\n",
      "\n",
      "#9 [5/6] RUN npm install\n",
      "#9 3.325 npm notice created a lockfile as package-lock.json. You should commit this file.\n",
      "#9 3.327 npm WARN nodejs-docker-app@1.0.0 No repository field.\n",
      "#9 3.327 \n",
      "#9 3.328 added 69 packages from 41 contributors and audited 69 packages in 2.644s\n",
      "#9 3.351 \n",
      "#9 3.351 14 packages are looking for funding\n",
      "#9 3.351   run `npm fund` for details\n",
      "#9 3.351 \n",
      "#9 3.352 found 0 vulnerabilities\n",
      "#9 3.352 \n",
      "#9 DONE 3.4s\n",
      "\n",
      "#10 [6/6] COPY . /src/app\n",
      "#10 DONE 0.0s\n",
      "\n",
      "#11 exporting to image\n",
      "#11 exporting layers\n",
      "#11 exporting layers 0.2s done\n",
      "#11 writing image sha256:45bbb9398b6b78f53b52b2906f230d069dbf435866378e9970f066a5a5035747 done\n",
      "#11 naming to docker.io/library/my-nodejs-app:v1 done\n",
      "#11 DONE 0.2s\n"
     ]
    },
    {
     "data": {
      "text/plain": [
       "CompletedProcess(args='docker build -t my-nodejs-app:v1 /home/dana/Documents/Docker-security/Node_js_app', returncode=0)"
      ]
     },
     "execution_count": 25,
     "metadata": {},
     "output_type": "execute_result"
    }
   ],
   "source": [
    "build_command = f\"docker build -t my-nodejs-app:v1 {my_path}\"\n",
    "subprocess.run(build_command, shell=True, check=True)"
   ]
  },
  {
   "cell_type": "code",
   "execution_count": 34,
   "metadata": {},
   "outputs": [
    {
     "name": "stdout",
     "output_type": "stream",
     "text": [
      "REPOSITORY          TAG       IMAGE ID       CREATED          SIZE\n",
      "my-nodejs-app       v1        45bbb9398b6b   23 minutes ago   87.6MB\n",
      "my-static-website   v1        66ed5edfa83c   2 hours ago      47.9MB\n",
      "hello-world         latest    74cc54e27dc4   8 weeks ago      10.1kB\n"
     ]
    },
    {
     "data": {
      "text/plain": [
       "CompletedProcess(args='docker images', returncode=0)"
      ]
     },
     "execution_count": 34,
     "metadata": {},
     "output_type": "execute_result"
    }
   ],
   "source": [
    "check_command = f\"docker images\"\n",
    "subprocess.run(check_command, shell=True, check=True)"
   ]
  },
  {
   "cell_type": "markdown",
   "metadata": {},
   "source": [
    "2. Запуск контейнера"
   ]
  },
  {
   "cell_type": "code",
   "execution_count": 28,
   "metadata": {},
   "outputs": [
    {
     "data": {
      "text/plain": [
       "'104c054df9e50b8d659dde42d4cf8cc061517e88617c7ee328a6cf2ed69187c4'"
      ]
     },
     "execution_count": 28,
     "metadata": {},
     "output_type": "execute_result"
    }
   ],
   "source": [
    "container_js = client.containers.run(\"my-nodejs-app:v1\", detach=True, name=\"my-running-app\", ports={\"3000\": \"3000\"})\n",
    "container_js.id"
   ]
  },
  {
   "cell_type": "markdown",
   "metadata": {},
   "source": [
    "3. Проверка, работает ли приложение"
   ]
  },
  {
   "cell_type": "code",
   "execution_count": 29,
   "metadata": {},
   "outputs": [
    {
     "name": "stdout",
     "output_type": "stream",
     "text": [
      "Response from the website:\n",
      " Hello from Dockerized Node.js app!\n"
     ]
    }
   ],
   "source": [
    "response = subprocess.run(\"curl http://localhost:3000\", shell=True, capture_output=True, text=True)\n",
    "print(\"Response from the website:\\n\", response.stdout)"
   ]
  },
  {
   "cell_type": "code",
   "execution_count": 31,
   "metadata": {},
   "outputs": [
    {
     "data": {
      "text/plain": [
       "b'\\n> nodejs-docker-app@1.0.0 start /src/app\\n> node app.js\\n\\nApp is running at http://localhost:3000\\n'"
      ]
     },
     "execution_count": 31,
     "metadata": {},
     "output_type": "execute_result"
    }
   ],
   "source": [
    "container_js.logs()\n"
   ]
  },
  {
   "cell_type": "code",
   "execution_count": 32,
   "metadata": {},
   "outputs": [
    {
     "data": {
      "text/plain": [
       "'created'"
      ]
     },
     "execution_count": 32,
     "metadata": {},
     "output_type": "execute_result"
    }
   ],
   "source": [
    "container_js.status\n"
   ]
  },
  {
   "cell_type": "code",
   "execution_count": 36,
   "metadata": {},
   "outputs": [
    {
     "name": "stdout",
     "output_type": "stream",
     "text": [
      "CONTAINER ID   IMAGE                  COMMAND                  CREATED          STATUS          PORTS                                         NAMES\n",
      "104c054df9e5   my-nodejs-app:v1       \"docker-entrypoint.s…\"   16 minutes ago   Up 16 minutes   0.0.0.0:3000->3000/tcp, [::]:3000->3000/tcp   my-running-app\n",
      "a1467128732a   my-static-website:v1   \"/docker-entrypoint.…\"   2 hours ago      Up 2 hours      0.0.0.0:80->80/tcp, [::]:80->80/tcp           compassionate_mcnulty\n"
     ]
    },
    {
     "data": {
      "text/plain": [
       "CompletedProcess(args='docker ps', returncode=0)"
      ]
     },
     "execution_count": 36,
     "metadata": {},
     "output_type": "execute_result"
    }
   ],
   "source": [
    "check_command = f\"docker ps\"\n",
    "subprocess.run(check_command, shell=True, check=True)"
   ]
  },
  {
   "cell_type": "markdown",
   "metadata": {},
   "source": [
    "4. Остановка контейнера"
   ]
  },
  {
   "cell_type": "code",
   "execution_count": 38,
   "metadata": {},
   "outputs": [],
   "source": [
    "container_js.stop()"
   ]
  }
 ],
 "metadata": {
  "kernelspec": {
   "display_name": "venv",
   "language": "python",
   "name": "python3"
  },
  "language_info": {
   "codemirror_mode": {
    "name": "ipython",
    "version": 3
   },
   "file_extension": ".py",
   "mimetype": "text/x-python",
   "name": "python",
   "nbconvert_exporter": "python",
   "pygments_lexer": "ipython3",
   "version": "3.12.3"
  }
 },
 "nbformat": 4,
 "nbformat_minor": 4
}
